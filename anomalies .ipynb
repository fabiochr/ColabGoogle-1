{
  "nbformat": 4,
  "nbformat_minor": 0,
  "metadata": {
    "colab": {
      "provenance": [],
      "authorship_tag": "ABX9TyPVey/HdVpLI4z+YQjD44G/",
      "include_colab_link": true
    },
    "kernelspec": {
      "name": "python3",
      "display_name": "Python 3"
    },
    "language_info": {
      "name": "python"
    }
  },
  "cells": [
    {
      "cell_type": "markdown",
      "metadata": {
        "id": "view-in-github",
        "colab_type": "text"
      },
      "source": [
        "<a href=\"https://colab.research.google.com/github/fabiochr/ColabGoogle-1/blob/main/anomalies%20.ipynb\" target=\"_parent\"><img src=\"https://colab.research.google.com/assets/colab-badge.svg\" alt=\"Open In Colab\"/></a>"
      ]
    },
    {
      "cell_type": "code",
      "execution_count": 1,
      "metadata": {
        "id": "TuaVnhYxCg2f"
      },
      "outputs": [],
      "source": [
        "import pandas as pd\n",
        "from datetime import datetime, timedelta\n",
        "import random"
      ]
    },
    {
      "cell_type": "code",
      "source": [
        "dates = [datetime(2023, 1, 1) + timedelta(days=i) for i in range(100)]  # 100 jours\n",
        "types_anomalie = ['Électronique', 'Logiciel', 'Réseau', 'Mécanique']\n",
        "equipes = ['Équipe A', 'Équipe B', 'Équipe C']\n",
        "\n",
        "data = {\n",
        "    'Date': random.choices(dates, k=200),  # 200 anomalies aléatoires\n",
        "    'Type': random.choices(types_anomalie, k=200),\n",
        "    'Criticité': random.choices(['Mineure', 'Majeure', 'Critique'], weights=[60, 30, 10], k=200),\n",
        "    'Équipe': random.choices(equipes, k=200),\n",
        "    'Temps_Résolution (heures)': [random.randint(1, 72) for _ in range(200)]  # Temps entre 1h et 72h\n",
        "}"
      ],
      "metadata": {
        "id": "AOJE8CQWCqNR"
      },
      "execution_count": 2,
      "outputs": []
    },
    {
      "cell_type": "code",
      "source": [
        "df = pd.DataFrame(data)"
      ],
      "metadata": {
        "id": "xM5mqo0HC7dg"
      },
      "execution_count": 3,
      "outputs": []
    },
    {
      "cell_type": "code",
      "source": [
        "df.to_csv('anomalies.csv', index=False)\n",
        "print(\"Fichier 'anomalies.csv' généré avec succès !\")"
      ],
      "metadata": {
        "colab": {
          "base_uri": "https://localhost:8080/"
        },
        "id": "q2WDauz9DBYP",
        "outputId": "a60251b2-3146-453f-e3de-f0a820ce105b"
      },
      "execution_count": 4,
      "outputs": [
        {
          "output_type": "stream",
          "name": "stdout",
          "text": [
            "Fichier 'anomalies.csv' généré avec succès !\n"
          ]
        }
      ]
    },
    {
      "cell_type": "code",
      "source": [
        "!git clone https://github.com/fabiochr/ColabGoogle-1.git\n"
      ],
      "metadata": {
        "colab": {
          "base_uri": "https://localhost:8080/"
        },
        "id": "CpK6oPzTvAgF",
        "outputId": "588d4a9a-6173-44dc-b984-72a312bc5e87"
      },
      "execution_count": 1,
      "outputs": [
        {
          "output_type": "stream",
          "name": "stdout",
          "text": [
            "Cloning into 'ColabGoogle-1'...\n",
            "remote: Enumerating objects: 4, done.\u001b[K\n",
            "remote: Counting objects: 100% (4/4), done.\u001b[K\n",
            "remote: Compressing objects: 100% (4/4), done.\u001b[K\n",
            "remote: Total 4 (delta 0), reused 0 (delta 0), pack-reused 0 (from 0)\u001b[K\n",
            "Receiving objects: 100% (4/4), done.\n"
          ]
        }
      ]
    },
    {
      "cell_type": "code",
      "source": [],
      "metadata": {
        "id": "X5w4ceIZvK1F"
      },
      "execution_count": null,
      "outputs": []
    }
  ]
}